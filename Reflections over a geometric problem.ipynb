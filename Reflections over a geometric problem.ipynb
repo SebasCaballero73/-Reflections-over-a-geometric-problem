{
  "nbformat": 4,
  "nbformat_minor": 0,
  "metadata": {
    "colab": {
      "provenance": []
    },
    "kernelspec": {
      "name": "python3",
      "display_name": "Python 3"
    },
    "language_info": {
      "name": "python"
    }
  },
  "cells": [
    {
      "cell_type": "markdown",
      "source": [
        "# Reflections’ over a geometric problem - Script de Python\n",
        "\n",
        "En el presente _notebook_ presentamos el código propuesto en la exposición para resolver nuestro problema sobre lasers y reflexiones. Empezaremos con una habitación cuyo ancho es $n$ y alto $m$. Ahora, se ubica dentro de ella un punto $A = (a_0, a_1)$ y se ubica otro punto $B = (b_0, b_1)$ en ubicaciones estrictamente distintas. Desde $A$ disparamos un laser cuyo alcance tiene un rango máximo de $d$ unidades. Nuestro objetivo será determinar de cuantas maneras podemos disparar el laser de forma que impacté en $B$, teniendo en cuenta la distancia máxima $d$ y que el láser no pase por $A$ en el camino.\n",
        "\n",
        "## Funciones preliminares\n",
        "### Máximo común divisor\n",
        "\n",
        "El máximo común divisor de dos números enteros $a$ y $b$ es el entero positivo $d$ tal que $d | a$ y $d|b$, y si $c | a$ y $c | b$ entonces $c \\le d$ para todo $c \\in \\mathbb{Z}^{\\ge 0}$, notado por $g.c.d(a, b)$. Para cálcular el máximo común divisor usamos el algoritmo de Euclides basado en los siguientes dos hechos:\n",
        "\n",
        "- Para todo $a \\in \\mathbb{Z}$, $g.c.d(a, 0) = |a|$\n",
        "- Si $a = b\\cdot q + r$ con $q, r \\in \\mathbb{Z}$ y $0 \\le r < b$ entonces $g.c.d(a, b) = g.c.d(b, r)$\n",
        "\n",
        "La función que se encuentra abajo está definida por recursión para cálcular de forma eficiente el máximo común divisor con las técnicas ya dichas,"
      ],
      "metadata": {
        "id": "6RzM02BctU7i"
      }
    },
    {
      "cell_type": "code",
      "source": [
        "def gdc(a, b):\n",
        "    if b == 0:\n",
        "        return a\n",
        "    else:\n",
        "        return gdc(b, a % b)"
      ],
      "metadata": {
        "id": "jwp0E0urtLrR"
      },
      "execution_count": 2,
      "outputs": []
    },
    {
      "cell_type": "markdown",
      "source": [
        "### Distancia entre dos puntos\n",
        "\n",
        "En matemáticas, una función métrica sobre un conjunto $X$, es una función $d: X \\times X \\to \\mathbb{R}^{0 \\ge}$ tal que:\n",
        "\n",
        "- $d(x, y) = 0$ si y solo si $x = y$\n",
        "- $d(x, y) = d(y, x)$\n",
        "- $d(x, y) \\le d(x, z) + d(y, z)$\n",
        "\n",
        "En este caso para determinar la distancia sobre dos puntos en $\\mathbb{R}^2$ usaremos la __métrica euclidiana__ definida por:\n",
        "$$d((x_1, x_2), (y_1, y_2)) = \\sqrt{(x_1 - y_1)^2 + (x_2 - y_2)^2}$$"
      ],
      "metadata": {
        "id": "8V1wBbsmuzk8"
      }
    },
    {
      "cell_type": "code",
      "source": [
        "def distance(X, Y):\n",
        "    return ((X[0] - Y[0])**2 + (X[1] - Y[1])**2)**0.5"
      ],
      "metadata": {
        "id": "g7hq7onxvtDS"
      },
      "execution_count": 3,
      "outputs": []
    },
    {
      "cell_type": "markdown",
      "source": [
        "## Programa principal\n",
        "\n",
        "La siguiente celda muestra en Python una implementación sobre las ideas propuestas en la exposición. Aunque con una cantidad grande de código, note que mucho de él es parte de lo explicado. "
      ],
      "metadata": {
        "id": "YjOIS0Kdvx4Q"
      }
    },
    {
      "cell_type": "code",
      "execution_count": 5,
      "metadata": {
        "id": "l0YyU6mU3CW3",
        "colab": {
          "base_uri": "https://localhost:8080/"
        },
        "outputId": "e0f66a8a-b298-4980-f4e8-5eb8729f7846"
      },
      "outputs": [
        {
          "output_type": "stream",
          "name": "stdout",
          "text": [
            "3 2\n",
            "1 1\n",
            "2 1\n",
            "4\n",
            "7\n"
          ]
        }
      ],
      "source": [
        "from math import ceil\n",
        "\n",
        "n, m = tuple(map(int, input().split()))\n",
        "Ax, Ay = tuple(map(int, input().split()))\n",
        "Bx, By = tuple(map(int, input().split()))\n",
        "d = int(input())\n",
        "\n",
        "if distance((Ax, Ay), (Bx, By)) > d:\n",
        "    print(0)\n",
        "else:\n",
        "    TimesX = ceil(max((d - (n - Ax)) / n, (d - (n - (n - Ax))) / n))\n",
        "    TimesY = ceil(max((d - (m - Ay)) / m, (d - (m - (m - Ay))) / m))\n",
        "\n",
        "\n",
        "    vectorsA = set()\n",
        "    vectorsB = {(Bx, By)}\n",
        "    inclinations = {((Ax - Bx) // abs(gdc(Ax-Bx, Ay-By)), (Ay - By) // abs(gdc(Ax-Bx, Ay-By)))}\n",
        "\n",
        "    changePx, changeQx, changeRx, changeSx = 0, 0, 0, 0\n",
        "\n",
        "    for i in range(-1, TimesX):\n",
        "        if i % 2 == 0 and i >= 0:\n",
        "            changePx -= 2 * Ax\n",
        "            changeQx -= 2 * Bx\n",
        "            changeRx += 2 * (n - Ax)\n",
        "            changeSx += 2 * (n - Bx)\n",
        "        elif i >= 0:\n",
        "            changePx -= 2 * (n - Ax)\n",
        "            changeQx -= 2 * (n - Bx)\n",
        "            changeRx += 2 * Ax\n",
        "            changeSx += 2 * Bx\n",
        "\n",
        "        Px, Qx = Ax + changePx, Bx + changeQx\n",
        "        Rx, Sx = Ax + changeRx, Bx + changeSx\n",
        "\n",
        "        changeAyUp, changeByUp, changeAyDown, changeByDown = 0, 0, 0, 0\n",
        "\n",
        "        for j in range(-1, TimesY):\n",
        "            if i == j == -1:\n",
        "                continue\n",
        "\n",
        "            if j % 2 == 0 and j >= 0:\n",
        "                changeAyDown -= 2 * Ay\n",
        "                changeByDown -= 2 * By\n",
        "                changeAyUp += 2 * (m - Ay)\n",
        "                changeByUp += 2 * (m - By)\n",
        "            elif j >= 0:\n",
        "                changeAyDown -= 2 * (m - Ay)\n",
        "                changeByDown -= 2 * (m - By)\n",
        "                changeAyUp += 2 * Ay\n",
        "                changeByUp += 2 * By\n",
        "\n",
        "            PyUp, QyUp = Ay + changeAyUp, By + changeByUp\n",
        "            RyUp, SyUp = Ay + changeAyUp, By + changeByUp\n",
        "            PyDown, QyDown = Ay + changeAyDown, By + changeByDown\n",
        "            RyDown, SyDown = Ay + changeAyDown, By + changeByDown\n",
        "\n",
        "            APNormUp, APNormDown = abs(gdc(Ax - Px, Ay - PyUp)), abs(gdc(Ax - Px, Ay - PyDown))\n",
        "            AQNormUp, AQNormDown = abs(gdc(Ax - Qx, Ay - QyUp)), abs(gdc(Ax - Qx, Ay - QyDown))\n",
        "            ARNormUp, ARNormDown = abs(gdc(Ax - Rx, Ay - RyUp)), abs(gdc(Ax - Rx, Ay - RyDown))\n",
        "            ASNormUp, ASNormDown = abs(gdc(Ax - Sx, Ay - SyUp)), abs(gdc(Ax - Sx, Ay - SyDown))\n",
        "\n",
        "            AQUp, AQDown = ((Ax - Qx) // AQNormUp, (Ay - QyUp) // AQNormUp), ((Ax - Qx) // AQNormDown, (Ay - QyDown) // AQNormDown)\n",
        "            ASUp, ASDown = ((Ax - Sx) // ASNormUp, (Ay - SyUp) // ASNormUp), ((Ax - Sx) // ASNormDown, (Ay - SyDown) // ASNormDown)\n",
        "\n",
        "            vectorsA.update({\n",
        "                ((Ax - Px) // APNormUp, (Ay - PyUp) // APNormUp),\n",
        "                ((Ax - Px) // APNormDown, (Ay - PyDown) // APNormDown),\n",
        "                ((Ax - Rx) // ARNormUp, (Ay - RyUp) // ARNormUp),\n",
        "                ((Ax - Rx) // ARNormDown, (Ay - RyDown) // ARNormUp)\n",
        "            })\n",
        "\n",
        "            if distance((Ax, Ay), (Qx, QyUp)) <= d and AQUp not in inclinations:\n",
        "                if AQUp not in vectorsA or (AQUp == ((Ax - Px) // APNormUp, (Ay - PyUp) // APNormUp) and distance((Ax, Ay), (Qx, QyUp)) <= distance((Ax, Ay), (Px, PyUp))):\n",
        "                    vectorsB.add((Qx, QyUp))\n",
        "                    inclinations.add(AQUp)\n",
        "\n",
        "\n",
        "\n",
        "            if AQDown not in vectorsA:\n",
        "                if((Ax - Qx)**2 + (Ay - QyDown)**2)**0.5 <= d and AQDown not in inclinations:\n",
        "                    vectorsB.add((Qx, QyDown))\n",
        "                    inclinations.add(AQDown)\n",
        "\n",
        "            elif AQDown == ((Ax - Px) // APNormDown, (Ay - PyDown) // APNormDown):\n",
        "                if((Ax - Qx)**2 + (Ay - QyDown)**2)**0.5 <= d and AQDown not in inclinations and ((Ax - Qx)**2 + (Ay - QyDown)**2)**0.5 <= ((Ax - Px)**2 + (Ay - PyDown)**2)**0.5:\n",
        "                    vectorsB.add((Qx, QyDown))\n",
        "                    inclinations.add(AQDown)\n",
        "\n",
        "\n",
        "            if ASUp not in vectorsA:\n",
        "                if((Ax - Sx)**2 + (Ay - SyUp)**2)**0.5 <= d and ASUp not in inclinations:\n",
        "                    vectorsB.add((Sx, SyUp))\n",
        "                    inclinations.add(ASUp)\n",
        "\n",
        "            elif ASUp == ((Ax - Rx) // ARNormUp, (Ay - RyUp) // ARNormUp):\n",
        "                if((Ax - Sx)**2 + (Ay - SyUp)**2)**0.5 <= d and ASUp not in inclinations and ((Ax - Sx)**2 + (Ay - SyUp)**2)**0.5 <= ((Ax - Rx)**2 + (Ay - RyUp)**2)**0.5:\n",
        "                    vectorsB.add((Sx, SyUp))\n",
        "                    inclinations.add(ASUp)\n",
        "\n",
        "\n",
        "            if ASDown not in vectorsA:\n",
        "                if((Ax - Sx)**2 + (Ay - SyDown)**2)**0.5 <= d and ASDown not in inclinations:\n",
        "                    vectorsB.add((Sx, SyDown))\n",
        "                    inclinations.add(ASDown)\n",
        "\n",
        "            elif ASDown == ((Ax - Rx) // ARNormDown, (Ay - RyDown) // ARNormDown):\n",
        "                if((Ax - Sx)**2 + (Ay - SyDown)**2)**0.5 <= d and ASDown not in inclinations and ((Ax - Sx)**2 + (Ay - SyDown)**2)**0.5 <= ((Ax - Rx)**2 + (Ay - RyDown)**2)**0.5:\n",
        "                    vectorsB.add((Sx, SyDown))\n",
        "                    inclinations.add(ASUp)\n",
        "\n",
        "\n",
        "    print(len(vectorsB))"
      ]
    }
  ]
}